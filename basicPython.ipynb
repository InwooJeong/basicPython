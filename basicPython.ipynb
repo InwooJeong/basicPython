{
 "cells": [
  {
   "cell_type": "markdown",
   "id": "90342cd5",
   "metadata": {},
   "source": [
    "### 변수, 값 표시와 변수의 저장"
   ]
  },
  {
   "cell_type": "code",
   "execution_count": 3,
   "id": "0522a839",
   "metadata": {},
   "outputs": [],
   "source": [
    "a = 123 # 변수 a에 정수 123을 대입\n",
    "b_123 = 123.456 # 변수 b_123에 소수 123.456 대입\n",
    "hello_world = \"Hello World!\" # 변수 hello_world에 문자열 \"Hello World!\"를 대입\n",
    "# <- 파이썬 주석"
   ]
  },
  {
   "cell_type": "code",
   "execution_count": 4,
   "id": "0e9fae7c",
   "metadata": {},
   "outputs": [
    {
     "name": "stdout",
     "output_type": "stream",
     "text": [
      "123\n",
      "123.456\n",
      "123 123.456 Hello World!\n",
      "456\n"
     ]
    }
   ],
   "source": [
    "print(a)\n",
    "print(b_123)\n",
    "b_123 = 456\n",
    "print(123, 123.456, \"Hello World!\")\n",
    "print(b_123)\n",
    "# 여러개의 값을 ,로 구분해 모아서 표시 가능\n",
    "# 실행을 마친 셀 변수는 노트북 내에서 공유 된다."
   ]
  },
  {
   "cell_type": "markdown",
   "id": "cd1aa67a",
   "metadata": {},
   "source": [
    "### 연산자"
   ]
  },
  {
   "cell_type": "code",
   "execution_count": 5,
   "id": "56ad57b9",
   "metadata": {},
   "outputs": [
    {
     "name": "stdout",
     "output_type": "stream",
     "text": [
      "덧셈 :  7\n",
      "뺄셈 :  -1\n",
      "곱셈 :  12\n",
      "거듭제곱 :  81\n"
     ]
    }
   ],
   "source": [
    "a=3\n",
    "b=4\n",
    "\n",
    "c=a+b # 덧셈\n",
    "print(\"덧셈 : \", c)\n",
    "\n",
    "d=a-b # 뺄셈\n",
    "print(\"뺄셈 : \", d)\n",
    "\n",
    "e=a*b # 곱셈\n",
    "print(\"곱셈 : \", e)\n",
    "\n",
    "f = a**b # 거듭제곰(a의 b제곱)\n",
    "print(\"거듭제곱 : \", f)"
   ]
  },
  {
   "cell_type": "code",
   "execution_count": 7,
   "id": "582a9aa4",
   "metadata": {},
   "outputs": [
    {
     "name": "stdout",
     "output_type": "stream",
     "text": [
      "나눗셈(소수):  0.75\n",
      "나눗셈(정수):  0\n",
      "나머지:  3\n"
     ]
    }
   ],
   "source": [
    "g=a/b  #결과는 소수\n",
    "print(\"나눗셈(소수): \",g)\n",
    "\n",
    "h=a//b  #결과는 정수\n",
    "print(\"나눗셈(정수): \",h)\n",
    "\n",
    "i=a%b  #나머지\n",
    "print(\"나머지: \",i)"
   ]
  },
  {
   "cell_type": "code",
   "execution_count": 8,
   "id": "66eebdb3",
   "metadata": {},
   "outputs": [
    {
     "name": "stdout",
     "output_type": "stream",
     "text": [
      "3을 더한다:  8\n",
      "3을 뺀다:  2\n"
     ]
    }
   ],
   "source": [
    "j = 5\n",
    "j += 3  #3을 더한다. j = j+3과 같은 의미\n",
    "print(\"3을 더한다: \", j)\n",
    "\n",
    "k = 5\n",
    "k -= 3  #3을 뺀다. k = k-3과 같은 의미\n",
    "print(\"3을 뺀다: \", k)"
   ]
  },
  {
   "cell_type": "markdown",
   "id": "363b1dd2",
   "metadata": {},
   "source": [
    "### 큰 수, 작은 수 표시\n",
    "\n",
    "- e의 왼쪽에 소수, 오른쪽에 정수.\n",
    "- e의 왼쪽 소수에 e의 오른쪽 횟수만큼 10을 곱한 수\n",
    "- e의 오른쪽이 -면 그 횟수만큼 10을 나눈다."
   ]
  },
  {
   "cell_type": "code",
   "execution_count": 9,
   "id": "0566ec71",
   "metadata": {},
   "outputs": [
    {
     "name": "stdout",
     "output_type": "stream",
     "text": [
      "120000.0\n",
      "0.00012\n"
     ]
    }
   ],
   "source": [
    "a = 1.2e5  #120000\n",
    "print(a)\n",
    "\n",
    "b = 1.2e-4  #0.00012\n",
    "print(b)"
   ]
  },
  {
   "cell_type": "markdown",
   "id": "a88bb872",
   "metadata": {},
   "source": [
    "### 리스트\n",
    "- 여러 개의 값을 한데 모아 하나의 변수로 처리\n",
    "- 전체 요소를 []로 감싸고 각 요소는 ,로 구분"
   ]
  },
  {
   "cell_type": "code",
   "execution_count": 10,
   "id": "28f24a63",
   "metadata": {},
   "outputs": [
    {
     "name": "stdout",
     "output_type": "stream",
     "text": [
      "[1, 2, 3, 4]\n"
     ]
    }
   ],
   "source": [
    "a = [1,2,3,4]\n",
    "print(a)"
   ]
  },
  {
   "cell_type": "code",
   "execution_count": 12,
   "id": "9a3ebd84",
   "metadata": {},
   "outputs": [
    {
     "name": "stdout",
     "output_type": "stream",
     "text": [
      "6\n"
     ]
    }
   ],
   "source": [
    "b = [4,5,6,7]\n",
    "print(b[2])"
   ]
  },
  {
   "cell_type": "code",
   "execution_count": 13,
   "id": "c2a3de7a",
   "metadata": {},
   "outputs": [
    {
     "name": "stdout",
     "output_type": "stream",
     "text": [
      "[1, 2, 3, 4, 5, 6]\n"
     ]
    }
   ],
   "source": [
    "c = [1,2,3,4,5]\n",
    "c.append(6)  # 리스트 마지막에 요소 추가\n",
    "print(c)"
   ]
  },
  {
   "cell_type": "code",
   "execution_count": 14,
   "id": "cd12968b",
   "metadata": {},
   "outputs": [
    {
     "name": "stdout",
     "output_type": "stream",
     "text": [
      "[[1, 2, 3], [4, 5, 6]]\n"
     ]
    }
   ],
   "source": [
    "d = [[1,2,3],[4,5,6]]\n",
    "print(d)"
   ]
  },
  {
   "cell_type": "code",
   "execution_count": 15,
   "id": "c1186353",
   "metadata": {},
   "outputs": [
    {
     "name": "stdout",
     "output_type": "stream",
     "text": [
      "[1, 2, 1, 2, 1, 2]\n"
     ]
    }
   ],
   "source": [
    "e = [1,2]\n",
    "print(e*3)  # 리스트를 반복"
   ]
  },
  {
   "cell_type": "markdown",
   "id": "63dc0c3f",
   "metadata": {},
   "source": [
    "### 튜플\n",
    "\n",
    "- 리스트와 같이 여러 개의 값을 한데 모아 다룰 때 사용\n",
    "- 요소의 추가, 삭제, 교체 등은 불가능\n",
    "- 튜플 값 전체를 ()로 감싸고 각 요소는 ,로 구분."
   ]
  },
  {
   "cell_type": "code",
   "execution_count": 16,
   "id": "9340dadf",
   "metadata": {},
   "outputs": [
    {
     "name": "stdout",
     "output_type": "stream",
     "text": [
      "3\n",
      "(3,)\n",
      "1 2 3\n",
      "4 5 6\n"
     ]
    }
   ],
   "source": [
    "a = (1,2,3,4,5)  # 튜플 작성\n",
    "b = a[2]  # 인덱스가 2인 요소\n",
    "print(b)\n",
    "\n",
    "c = (3,)  # 요소가 하나인 튜플은 요소 바로 뒤에 ,가 필요\n",
    "print(c)\n",
    "\n",
    "d = [1,2,3]\n",
    "d_1, d_2, d_3 = d\n",
    "print(d_1, d_2, d_3)\n",
    "\n",
    "e = (4,5,6)\n",
    "e_1, e_2, e_3 = e\n",
    "print(e_1, e_2, e_3)"
   ]
  },
  {
   "cell_type": "markdown",
   "id": "61b62dc3",
   "metadata": {},
   "source": [
    "### if문\n",
    "\n",
    "- 조건 분기를 위해 사용\n",
    "\n",
    "if 조건식:\n",
    "  처리1\n",
    "else:\n",
    "  처리2"
   ]
  },
  {
   "cell_type": "code",
   "execution_count": 17,
   "id": "49d3434f",
   "metadata": {},
   "outputs": [
    {
     "name": "stdout",
     "output_type": "stream",
     "text": [
      "7\n"
     ]
    }
   ],
   "source": [
    "a = 5\n",
    "\n",
    "if a>3:  # a가 3보다 크면\n",
    "    print(a+2)  # 인덴트로 구분\n",
    "else:  # a>3을 만족하지 않으면\n",
    "    print(a-1)"
   ]
  },
  {
   "cell_type": "code",
   "execution_count": 18,
   "id": "9b23cc0d",
   "metadata": {},
   "outputs": [
    {
     "name": "stdout",
     "output_type": "stream",
     "text": [
      "9\n"
     ]
    }
   ],
   "source": [
    "b = 7\n",
    "\n",
    "if b==7:\n",
    "    print(b+2)\n",
    "else:\n",
    "    print(b-2)"
   ]
  },
  {
   "cell_type": "markdown",
   "id": "d7a11c6d",
   "metadata": {},
   "source": [
    "### for문\n",
    "\n",
    "- 처리를 반복 시행\n",
    "- for문을 리스트와 함께 사용 할 때 :\n",
    "\n",
    "for 변수 in 리스트:\n",
    "    처리\n",
    "\n",
    "- 입력한 정수 만큼 반복 처리 : \n",
    "for 변수 in range(정수):\n",
    "    처리"
   ]
  },
  {
   "cell_type": "code",
   "execution_count": 19,
   "id": "609a482a",
   "metadata": {},
   "outputs": [
    {
     "name": "stdout",
     "output_type": "stream",
     "text": [
      "5\n",
      "8\n",
      "11\n"
     ]
    }
   ],
   "source": [
    "for a in [4,7,10]:  # 리스트 각 요소가 변수 a에 들어가고\n",
    "    print(a+1)  # 루프에서 실행하는 처리에는 인덴트"
   ]
  },
  {
   "cell_type": "code",
   "execution_count": 20,
   "id": "929df16a",
   "metadata": {},
   "outputs": [
    {
     "name": "stdout",
     "output_type": "stream",
     "text": [
      "0\n",
      "1\n",
      "2\n",
      "3\n",
      "4\n"
     ]
    }
   ],
   "source": [
    "for a in range(5):  #a에는 0부터 4\n",
    "    print(a)"
   ]
  },
  {
   "cell_type": "markdown",
   "id": "4eed9f9e",
   "metadata": {},
   "source": [
    "### 함수\n",
    "\n",
    "- 여러 행의 처리를 그릅으로 한데 모을 수 있다.\n",
    "\n",
    "def 함수명(인수):\n",
    "    처리\n",
    "    return 반환값\n",
    "    \n",
    "- 인수나 반환값은 없어도 가능"
   ]
  },
  {
   "cell_type": "code",
   "execution_count": 21,
   "id": "e51c32e9",
   "metadata": {},
   "outputs": [
    {
     "name": "stdout",
     "output_type": "stream",
     "text": [
      "5\n"
     ]
    }
   ],
   "source": [
    "def my_func_1():  # 함수명: my_func_1\n",
    "    a=2\n",
    "    b=3\n",
    "    print(a+b)\n",
    "    \n",
    "my_func_1()  # 함수 호출"
   ]
  },
  {
   "cell_type": "code",
   "execution_count": 22,
   "id": "19e14ad1",
   "metadata": {},
   "outputs": [
    {
     "name": "stdout",
     "output_type": "stream",
     "text": [
      "7\n"
     ]
    }
   ],
   "source": [
    "def my_func_2(p,q):  # p,q가 인수\n",
    "    print(p+q)\n",
    "\n",
    "my_func_2(3,4)  # 함수를 호출할 때 값을 전달"
   ]
  },
  {
   "cell_type": "code",
   "execution_count": 23,
   "id": "539d871e",
   "metadata": {},
   "outputs": [
    {
     "name": "stdout",
     "output_type": "stream",
     "text": [
      "7\n"
     ]
    }
   ],
   "source": [
    "def my_func_3(p,q):\n",
    "    r=p+q\n",
    "    return r\n",
    "\n",
    "k = my_func_3(3,4) # 반환값으로 받은 값을 k에 넣음\n",
    "print(k)"
   ]
  },
  {
   "cell_type": "code",
   "execution_count": 24,
   "id": "4fe99fbb",
   "metadata": {},
   "outputs": [
    {
     "name": "stdout",
     "output_type": "stream",
     "text": [
      "7 3\n"
     ]
    }
   ],
   "source": [
    "# 여러 개의 값을 반환하고 싶은 경우 튜플을 사용\n",
    "def my_func_3(p,q):\n",
    "    r=p+q\n",
    "    s=p-q\n",
    "    return(r,s)  # 반환값을 튜플\n",
    "\n",
    "k,l = my_func_3(5, 2)  # 튜플 각 요소를 k,l에 대입\n",
    "print(k,l)"
   ]
  },
  {
   "cell_type": "markdown",
   "id": "5e86c13b",
   "metadata": {},
   "source": [
    "### 스코프\n",
    "\n",
    "- 변수에 접근할 수 있는 범위\n",
    "- 함수 안 = 로컬, 함수 밖 = 글로벌"
   ]
  },
  {
   "cell_type": "code",
   "execution_count": 25,
   "id": "d9c2c05d",
   "metadata": {},
   "outputs": [
    {
     "name": "stdout",
     "output_type": "stream",
     "text": [
      "123 456\n"
     ]
    }
   ],
   "source": [
    "a = 123  # 글로벌 변수\n",
    "\n",
    "def show_number():\n",
    "    b = 456  # 로컬 변수\n",
    "    print(a,b)  # 함수 내보에서 글로벌 변수 접근 가능\n",
    "    \n",
    "show_number()"
   ]
  },
  {
   "cell_type": "code",
   "execution_count": 27,
   "id": "b0c95fdd",
   "metadata": {},
   "outputs": [
    {
     "name": "stdout",
     "output_type": "stream",
     "text": [
      "Local :  456\n",
      "Global :  123\n"
     ]
    }
   ],
   "source": [
    "a = 123  # 글로벌 변수\n",
    "\n",
    "def set_local():\n",
    "    a = 456  # a는 위와 다른 로컬 변수\n",
    "    print(\"Local : \", a)\n",
    "    \n",
    "set_local()\n",
    "print(\"Global : \", a)  #글로벌 변수의 값은 변하지 않음"
   ]
  },
  {
   "cell_type": "code",
   "execution_count": 28,
   "id": "26bbcbfc",
   "metadata": {},
   "outputs": [
    {
     "name": "stdout",
     "output_type": "stream",
     "text": [
      "Local : 456\n",
      "Global : 123\n"
     ]
    }
   ],
   "source": [
    "a = 123  # 글로벌 변수\n",
    "\n",
    "def show_arg(a):  # a는 위와 다른 로컬 변수\n",
    "    print(\"Local :\", a)\n",
    "\n",
    "show_arg(456)\n",
    "print(\"Global :\", a)"
   ]
  },
  {
   "cell_type": "code",
   "execution_count": 29,
   "id": "1056d584",
   "metadata": {},
   "outputs": [
    {
     "name": "stdout",
     "output_type": "stream",
     "text": [
      "Global : 456\n",
      "Global : 456\n"
     ]
    }
   ],
   "source": [
    "a = 123  # 글로벌 변수\n",
    "\n",
    "def set_global():\n",
    "    global a  # nonlocal로도 가능\n",
    "    a = 456\n",
    "    print(\"Global :\", a)\n",
    "    \n",
    "set_global()\n",
    "print(\"Global :\", a)"
   ]
  },
  {
   "cell_type": "code",
   "execution_count": 40,
   "id": "ea9be13b",
   "metadata": {},
   "outputs": [
    {
     "name": "stdout",
     "output_type": "stream",
     "text": [
      "List : \n",
      "[1, 3, 'List', [1, 2, 3]]\n",
      "\n",
      "Tuple : \n",
      "(1, 'Sting', [44, 22])\n",
      "\n",
      "If : \n",
      "11\n",
      "\n",
      "for : \n",
      "1\n",
      "3\n",
      "5\n",
      "7\n",
      "9\n",
      "11\n",
      "13\n",
      "15\n",
      "17\n",
      "19\n",
      "\n",
      "Function : \n",
      "2 * 1 = 2\n",
      "2 * 2 = 4\n",
      "2 * 3 = 6\n",
      "2 * 4 = 8\n",
      "2 * 5 = 10\n",
      "2 * 6 = 12\n",
      "2 * 7 = 14\n",
      "2 * 8 = 16\n",
      "2 * 9 = 18\n"
     ]
    }
   ],
   "source": [
    "# --- 리스트 예 ---\n",
    "print(\"List : \")\n",
    "my_list = [1,3,\"List\",[1,2,3]]\n",
    "print(my_list)\n",
    "\n",
    "print()\n",
    "\n",
    "# --- 튜플 예 ---\n",
    "print(\"Tuple : \")\n",
    "my_tuple = (1,\"Sting\",[44,22])\n",
    "print(my_tuple)\n",
    "\n",
    "print()\n",
    "\n",
    "# --- if문 예 ---\n",
    "print(\"If : \")\n",
    "a = 11\n",
    "b = 22\n",
    "if a > b:\n",
    "    print(a - b)\n",
    "else :\n",
    "    print(b - a)\n",
    "    \n",
    "print()\n",
    "\n",
    "# --- for문 예 ---\n",
    "print(\"for : \")\n",
    "for i in range(1, 20, 2):\n",
    "    print(i)\n",
    "\n",
    "print()\n",
    "\n",
    "# --- 함수 예 ---\n",
    "print(\"Function : \")\n",
    "def gugu(n):\n",
    "    for i in range(1,10):\n",
    "        print(f'{n} * {i} = {n * i}')\n",
    "\n",
    "gugu(2)"
   ]
  }
 ],
 "metadata": {
  "kernelspec": {
   "display_name": "Python 3 (ipykernel)",
   "language": "python",
   "name": "python3"
  },
  "language_info": {
   "codemirror_mode": {
    "name": "ipython",
    "version": 3
   },
   "file_extension": ".py",
   "mimetype": "text/x-python",
   "name": "python",
   "nbconvert_exporter": "python",
   "pygments_lexer": "ipython3",
   "version": "3.11.4"
  }
 },
 "nbformat": 4,
 "nbformat_minor": 5
}
