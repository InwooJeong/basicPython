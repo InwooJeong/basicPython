{
 "cells": [
  {
   "cell_type": "markdown",
   "id": "8559cd9e",
   "metadata": {},
   "source": [
    "### 변수, 값 표시와 변수의 저장"
   ]
  },
  {
   "cell_type": "code",
   "execution_count": 7,
   "id": "71f0fe93",
   "metadata": {},
   "outputs": [],
   "source": [
    "a = 123 # 변수 a에 정수 123을 대입\n",
    "b_123 = 123.456 # 변수 b_123에 소수 123.456 대입\n",
    "hello_world = \"Hello World!\" # 변수 hello_world에 문자열 \"Hello World!\"를 대입\n",
    "# <- 파이썬 주석"
   ]
  },
  {
   "cell_type": "code",
   "execution_count": 8,
   "id": "de2fe23f",
   "metadata": {},
   "outputs": [
    {
     "name": "stdout",
     "output_type": "stream",
     "text": [
      "123\n",
      "123.456\n",
      "123 123.456 Hello World!\n",
      "456\n"
     ]
    }
   ],
   "source": [
    "print(a)\n",
    "print(b_123)\n",
    "b_123 = 456\n",
    "print(123, 123.456, \"Hello World!\")\n",
    "print(b_123)\n",
    "# 여러개의 값을 ,로 구분해 모아서 표시 가능\n",
    "# 실행을 마친 셀 변수는 노트북 내에서 공유 된다."
   ]
  },
  {
   "cell_type": "markdown",
   "id": "026b102f",
   "metadata": {},
   "source": [
    "### 연산자"
   ]
  },
  {
   "cell_type": "code",
   "execution_count": null,
   "id": "963878c5",
   "metadata": {},
   "outputs": [],
   "source": [
    "a=3\n",
    "b=4\n",
    "\n",
    "c=a+b #덧셈\n"
   ]
  }
 ],
 "metadata": {
  "kernelspec": {
   "display_name": "Python 3 (ipykernel)",
   "language": "python",
   "name": "python3"
  },
  "language_info": {
   "codemirror_mode": {
    "name": "ipython",
    "version": 3
   },
   "file_extension": ".py",
   "mimetype": "text/x-python",
   "name": "python",
   "nbconvert_exporter": "python",
   "pygments_lexer": "ipython3",
   "version": "3.11.4"
  }
 },
 "nbformat": 4,
 "nbformat_minor": 5
}
